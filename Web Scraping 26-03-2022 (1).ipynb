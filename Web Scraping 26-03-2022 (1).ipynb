{
 "cells": [
  {
   "cell_type": "code",
   "execution_count": 6,
   "id": "06ad5f10",
   "metadata": {},
   "outputs": [],
   "source": [
    "from bs4 import BeautifulSoup"
   ]
  },
  {
   "cell_type": "code",
   "execution_count": 7,
   "id": "bdd689cf",
   "metadata": {},
   "outputs": [
    {
     "name": "stdout",
     "output_type": "stream",
     "text": [
      "<!DOCTYPE html>\n",
      "<html lang=\"en\">\n",
      "<head>\n",
      "    <meta charset=\"UTF-8\">\n",
      "    <title>My Courses</title>\n",
      "</head>\n",
      "<body>\n",
      "\n",
      "    <h1>Welcome to my website</h1>\n",
      "    <div class=\"main\">\n",
      "        <div class=\"child\">\n",
      "            <h3>Python Beginners</h3>\n",
      "            <a>25$</a>\n",
      "        </div>\n",
      "\n",
      "        <div class=\"child\">\n",
      "            <h3>Python Advanced</h3>\n",
      "            <a>50$</a>\n",
      "        </div>\n",
      "\n",
      "        <div class=\"child\">\n",
      "            <h3>Python Expert</h3>\n",
      "            <a>100$</a>\n",
      "        </div>\n",
      "\n",
      "    </div>\n",
      "</body>\n",
      "</html>\n"
     ]
    }
   ],
   "source": [
    "with open(\"home.html\",\"r\") as html_file:\n",
    "    content = html_file.read()\n",
    "    print(content)"
   ]
  },
  {
   "cell_type": "code",
   "execution_count": 8,
   "id": "ac898d8b",
   "metadata": {},
   "outputs": [
    {
     "name": "stdout",
     "output_type": "stream",
     "text": [
      "<!DOCTYPE html>\n",
      "<html lang=\"en\">\n",
      " <head>\n",
      "  <meta charset=\"utf-8\"/>\n",
      "  <title>\n",
      "   My Courses\n",
      "  </title>\n",
      " </head>\n",
      " <body>\n",
      "  <h1>\n",
      "   Welcome to my website\n",
      "  </h1>\n",
      "  <div class=\"main\">\n",
      "   <div class=\"child\">\n",
      "    <h3>\n",
      "     Python Beginners\n",
      "    </h3>\n",
      "    <a>\n",
      "     25$\n",
      "    </a>\n",
      "   </div>\n",
      "   <div class=\"child\">\n",
      "    <h3>\n",
      "     Python Advanced\n",
      "    </h3>\n",
      "    <a>\n",
      "     50$\n",
      "    </a>\n",
      "   </div>\n",
      "   <div class=\"child\">\n",
      "    <h3>\n",
      "     Python Expert\n",
      "    </h3>\n",
      "    <a>\n",
      "     100$\n",
      "    </a>\n",
      "   </div>\n",
      "  </div>\n",
      " </body>\n",
      "</html>\n"
     ]
    }
   ],
   "source": [
    "with open(\"home.html\",\"r\") as html_file:\n",
    "    content = html_file.read()\n",
    "    soup = BeautifulSoup(content,\"lxml\")\n",
    "    print(soup.prettify())"
   ]
  },
  {
   "cell_type": "code",
   "execution_count": 10,
   "id": "6b40ce8d",
   "metadata": {},
   "outputs": [
    {
     "name": "stdout",
     "output_type": "stream",
     "text": [
      "[<h3>Python Beginners</h3>, <h3>Python Advanced</h3>, <h3>Python Expert</h3>]\n"
     ]
    }
   ],
   "source": [
    "with open(\"home.html\",\"r\") as html_file:\n",
    "    content = html_file.read()\n",
    "    soup = BeautifulSoup(content,\"lxml\")\n",
    "    tags = soup.find_all(\"h3\")\n",
    "    print(tags)"
   ]
  },
  {
   "cell_type": "code",
   "execution_count": 11,
   "id": "03cd5f46",
   "metadata": {},
   "outputs": [
    {
     "name": "stdout",
     "output_type": "stream",
     "text": [
      "[<a>25$</a>, <a>50$</a>, <a>100$</a>]\n"
     ]
    }
   ],
   "source": [
    "with open(\"home.html\",\"r\") as html_file:\n",
    "    content = html_file.read()\n",
    "    soup = BeautifulSoup(content,\"lxml\")\n",
    "    tags = soup.find_all(\"h3\")\n",
    "    amount = soup.find_all(\"a\")\n",
    "    print(amount)"
   ]
  },
  {
   "cell_type": "code",
   "execution_count": 19,
   "id": "190bcae0",
   "metadata": {},
   "outputs": [
    {
     "name": "stdout",
     "output_type": "stream",
     "text": [
      "Python Beginners\n",
      "Python Advanced\n",
      "Python Expert\n",
      "25\n",
      "50\n",
      "100\n"
     ]
    }
   ],
   "source": [
    "with open(\"home.html\",\"r\") as html_file:\n",
    "    content = html_file.read()\n",
    "    soup = BeautifulSoup(content,\"lxml\")\n",
    "    tags = soup.find_all(\"h3\")\n",
    "    amount = soup.find_all(\"a\")\n",
    "    for i in tags:\n",
    "        print(i.text)\n",
    "    for j in amount:\n",
    "        s=j.text\n",
    "        s1=s.split(\"$\")[0]\n",
    "        print(s1)"
   ]
  },
  {
   "cell_type": "code",
   "execution_count": 20,
   "id": "dab6a88c",
   "metadata": {},
   "outputs": [],
   "source": [
    "course_name=[]\n",
    "course_price=[]"
   ]
  },
  {
   "cell_type": "code",
   "execution_count": 21,
   "id": "449be025",
   "metadata": {},
   "outputs": [],
   "source": [
    "with open(\"home.html\",\"r\") as html_file:\n",
    "    content = html_file.read()\n",
    "    soup = BeautifulSoup(content,\"lxml\")\n",
    "    tags = soup.find_all(\"h3\")\n",
    "    amount = soup.find_all(\"a\")\n",
    "    for i in tags:\n",
    "        course_name.append(i.text)\n",
    "    for j in amount:\n",
    "        s=j.text\n",
    "        s1=s.split(\"$\")[0]\n",
    "        course_price.append(int(s1))"
   ]
  },
  {
   "cell_type": "code",
   "execution_count": 22,
   "id": "5b24911f",
   "metadata": {},
   "outputs": [
    {
     "name": "stdout",
     "output_type": "stream",
     "text": [
      "['Python Beginners', 'Python Advanced', 'Python Expert']\n",
      "[25, 50, 100]\n"
     ]
    }
   ],
   "source": [
    "print(course_name)\n",
    "print(course_price)"
   ]
  },
  {
   "cell_type": "code",
   "execution_count": 23,
   "id": "5212baf3",
   "metadata": {},
   "outputs": [],
   "source": [
    "import pandas as pd"
   ]
  },
  {
   "cell_type": "code",
   "execution_count": 24,
   "id": "e0e60e3e",
   "metadata": {},
   "outputs": [],
   "source": [
    "data1={}"
   ]
  },
  {
   "cell_type": "code",
   "execution_count": 25,
   "id": "6aef2722",
   "metadata": {},
   "outputs": [],
   "source": [
    "df1 = pd.DataFrame(data1)"
   ]
  },
  {
   "cell_type": "code",
   "execution_count": 26,
   "id": "b5b4a768",
   "metadata": {},
   "outputs": [
    {
     "data": {
      "text/html": [
       "<div>\n",
       "<style scoped>\n",
       "    .dataframe tbody tr th:only-of-type {\n",
       "        vertical-align: middle;\n",
       "    }\n",
       "\n",
       "    .dataframe tbody tr th {\n",
       "        vertical-align: top;\n",
       "    }\n",
       "\n",
       "    .dataframe thead th {\n",
       "        text-align: right;\n",
       "    }\n",
       "</style>\n",
       "<table border=\"1\" class=\"dataframe\">\n",
       "  <thead>\n",
       "    <tr style=\"text-align: right;\">\n",
       "      <th></th>\n",
       "    </tr>\n",
       "  </thead>\n",
       "  <tbody>\n",
       "  </tbody>\n",
       "</table>\n",
       "</div>"
      ],
      "text/plain": [
       "Empty DataFrame\n",
       "Columns: []\n",
       "Index: []"
      ]
     },
     "execution_count": 26,
     "metadata": {},
     "output_type": "execute_result"
    }
   ],
   "source": [
    "df1"
   ]
  },
  {
   "cell_type": "code",
   "execution_count": 27,
   "id": "143e19f8",
   "metadata": {},
   "outputs": [],
   "source": [
    "df1[\"CourseName\"]=course_name\n",
    "df1[\"CoursePrice\"]=course_price"
   ]
  },
  {
   "cell_type": "code",
   "execution_count": 28,
   "id": "af4bd2ff",
   "metadata": {},
   "outputs": [
    {
     "data": {
      "text/html": [
       "<div>\n",
       "<style scoped>\n",
       "    .dataframe tbody tr th:only-of-type {\n",
       "        vertical-align: middle;\n",
       "    }\n",
       "\n",
       "    .dataframe tbody tr th {\n",
       "        vertical-align: top;\n",
       "    }\n",
       "\n",
       "    .dataframe thead th {\n",
       "        text-align: right;\n",
       "    }\n",
       "</style>\n",
       "<table border=\"1\" class=\"dataframe\">\n",
       "  <thead>\n",
       "    <tr style=\"text-align: right;\">\n",
       "      <th></th>\n",
       "      <th>CourseName</th>\n",
       "      <th>CoursePrice</th>\n",
       "    </tr>\n",
       "  </thead>\n",
       "  <tbody>\n",
       "    <tr>\n",
       "      <th>0</th>\n",
       "      <td>Python Beginners</td>\n",
       "      <td>25</td>\n",
       "    </tr>\n",
       "    <tr>\n",
       "      <th>1</th>\n",
       "      <td>Python Advanced</td>\n",
       "      <td>50</td>\n",
       "    </tr>\n",
       "    <tr>\n",
       "      <th>2</th>\n",
       "      <td>Python Expert</td>\n",
       "      <td>100</td>\n",
       "    </tr>\n",
       "  </tbody>\n",
       "</table>\n",
       "</div>"
      ],
      "text/plain": [
       "         CourseName  CoursePrice\n",
       "0  Python Beginners           25\n",
       "1   Python Advanced           50\n",
       "2     Python Expert          100"
      ]
     },
     "execution_count": 28,
     "metadata": {},
     "output_type": "execute_result"
    }
   ],
   "source": [
    "df1"
   ]
  },
  {
   "cell_type": "code",
   "execution_count": null,
   "id": "d6a9be80",
   "metadata": {},
   "outputs": [],
   "source": []
  }
 ],
 "metadata": {
  "kernelspec": {
   "display_name": "Python 3 (ipykernel)",
   "language": "python",
   "name": "python3"
  },
  "language_info": {
   "codemirror_mode": {
    "name": "ipython",
    "version": 3
   },
   "file_extension": ".py",
   "mimetype": "text/x-python",
   "name": "python",
   "nbconvert_exporter": "python",
   "pygments_lexer": "ipython3",
   "version": "3.9.7"
  }
 },
 "nbformat": 4,
 "nbformat_minor": 5
}
