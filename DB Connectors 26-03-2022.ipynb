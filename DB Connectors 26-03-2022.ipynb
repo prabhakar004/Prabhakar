{
 "cells": [
  {
   "cell_type": "code",
   "execution_count": 1,
   "id": "04196219",
   "metadata": {},
   "outputs": [],
   "source": [
    "import mysql"
   ]
  },
  {
   "cell_type": "code",
   "execution_count": 2,
   "id": "7bcffba7",
   "metadata": {},
   "outputs": [],
   "source": [
    "import mysql.connector"
   ]
  },
  {
   "cell_type": "markdown",
   "id": "27c71991",
   "metadata": {},
   "source": [
    "# host, user, password, database"
   ]
  },
  {
   "cell_type": "code",
   "execution_count": 3,
   "id": "bab0c1b8",
   "metadata": {},
   "outputs": [],
   "source": [
    "connection = mysql.connector.connect(host=\"localhost\",user=\"root\",password=\"Arsh@2312\",database=\"sample\")"
   ]
  },
  {
   "cell_type": "code",
   "execution_count": 4,
   "id": "64f2749c",
   "metadata": {},
   "outputs": [],
   "source": [
    "cursor = connection.cursor()"
   ]
  },
  {
   "cell_type": "code",
   "execution_count": 5,
   "id": "b1d9b0de",
   "metadata": {},
   "outputs": [],
   "source": [
    "cursor.execute(\"INSERT INTO Batch(batch_id,batch_name,batch_sal) VALUES(%s,%s,%s)\",(1,\"Ajay\",40000))"
   ]
  },
  {
   "cell_type": "code",
   "execution_count": 6,
   "id": "9810f17a",
   "metadata": {},
   "outputs": [],
   "source": [
    "connection.commit()"
   ]
  },
  {
   "cell_type": "code",
   "execution_count": 7,
   "id": "f6a46be4",
   "metadata": {},
   "outputs": [],
   "source": [
    "connection.close()"
   ]
  },
  {
   "cell_type": "code",
   "execution_count": 8,
   "id": "abd112ad",
   "metadata": {},
   "outputs": [],
   "source": [
    "# multiple values"
   ]
  },
  {
   "cell_type": "code",
   "execution_count": 9,
   "id": "51f02d67",
   "metadata": {},
   "outputs": [],
   "source": [
    "import random"
   ]
  },
  {
   "cell_type": "code",
   "execution_count": 15,
   "id": "bb31a41c",
   "metadata": {},
   "outputs": [
    {
     "name": "stdout",
     "output_type": "stream",
     "text": [
      "2\n"
     ]
    }
   ],
   "source": [
    "print(random.randint(1,3))"
   ]
  },
  {
   "cell_type": "code",
   "execution_count": 16,
   "id": "f08ff2c7",
   "metadata": {},
   "outputs": [],
   "source": [
    "p_id=[]\n",
    "p_name=[]\n",
    "p_q=[]\n",
    "p_am=[]    "
   ]
  },
  {
   "cell_type": "code",
   "execution_count": 17,
   "id": "b3def100",
   "metadata": {},
   "outputs": [],
   "source": [
    "product_name=[\"Bat\",\"Apple\",\"Orange\",\"Mobile\",\"Laptop\",\"Furniture\",\"Wine\",\"Knife\",\"Table\",\"Flowers\"]"
   ]
  },
  {
   "cell_type": "code",
   "execution_count": 18,
   "id": "cd38b7f8",
   "metadata": {},
   "outputs": [
    {
     "data": {
      "text/plain": [
       "10"
      ]
     },
     "execution_count": 18,
     "metadata": {},
     "output_type": "execute_result"
    }
   ],
   "source": [
    "len(product_name)"
   ]
  },
  {
   "cell_type": "code",
   "execution_count": 20,
   "id": "d7f3e6dc",
   "metadata": {},
   "outputs": [
    {
     "data": {
      "text/plain": [
       "'Knife'"
      ]
     },
     "execution_count": 20,
     "metadata": {},
     "output_type": "execute_result"
    }
   ],
   "source": [
    "product_name[7]"
   ]
  },
  {
   "cell_type": "code",
   "execution_count": 21,
   "id": "f4e3ea01",
   "metadata": {},
   "outputs": [],
   "source": [
    "for i in range(1,101):\n",
    "    p_id.append(i)\n",
    "    p_name.append(product_name[random.randint(0,9)])\n",
    "    p_q.append(random.randint(1,15))\n",
    "    p_am.append(10000)"
   ]
  },
  {
   "cell_type": "code",
   "execution_count": 22,
   "id": "379ff6b7",
   "metadata": {},
   "outputs": [
    {
     "name": "stdout",
     "output_type": "stream",
     "text": [
      "[1, 2, 3, 4, 5, 6, 7, 8, 9, 10, 11, 12, 13, 14, 15, 16, 17, 18, 19, 20, 21, 22, 23, 24, 25, 26, 27, 28, 29, 30, 31, 32, 33, 34, 35, 36, 37, 38, 39, 40, 41, 42, 43, 44, 45, 46, 47, 48, 49, 50, 51, 52, 53, 54, 55, 56, 57, 58, 59, 60, 61, 62, 63, 64, 65, 66, 67, 68, 69, 70, 71, 72, 73, 74, 75, 76, 77, 78, 79, 80, 81, 82, 83, 84, 85, 86, 87, 88, 89, 90, 91, 92, 93, 94, 95, 96, 97, 98, 99, 100]\n",
      "['Wine', 'Apple', 'Flowers', 'Wine', 'Bat', 'Apple', 'Knife', 'Orange', 'Table', 'Knife', 'Mobile', 'Knife', 'Table', 'Orange', 'Orange', 'Orange', 'Apple', 'Apple', 'Bat', 'Bat', 'Flowers', 'Orange', 'Wine', 'Knife', 'Orange', 'Flowers', 'Knife', 'Knife', 'Mobile', 'Furniture', 'Table', 'Apple', 'Bat', 'Orange', 'Knife', 'Furniture', 'Furniture', 'Furniture', 'Knife', 'Knife', 'Laptop', 'Knife', 'Orange', 'Table', 'Mobile', 'Mobile', 'Bat', 'Orange', 'Laptop', 'Table', 'Flowers', 'Knife', 'Knife', 'Apple', 'Laptop', 'Flowers', 'Table', 'Orange', 'Mobile', 'Table', 'Wine', 'Knife', 'Bat', 'Furniture', 'Furniture', 'Furniture', 'Apple', 'Furniture', 'Furniture', 'Orange', 'Table', 'Apple', 'Apple', 'Knife', 'Knife', 'Flowers', 'Knife', 'Laptop', 'Apple', 'Apple', 'Knife', 'Knife', 'Mobile', 'Table', 'Table', 'Mobile', 'Wine', 'Flowers', 'Flowers', 'Flowers', 'Laptop', 'Wine', 'Wine', 'Table', 'Mobile', 'Wine', 'Knife', 'Furniture', 'Apple', 'Apple']\n",
      "[6, 10, 14, 10, 15, 4, 13, 15, 9, 15, 3, 10, 10, 5, 7, 3, 1, 8, 12, 1, 2, 6, 7, 15, 13, 7, 8, 1, 8, 11, 4, 2, 7, 11, 15, 11, 14, 4, 1, 10, 2, 11, 5, 7, 4, 15, 14, 6, 5, 2, 5, 5, 1, 10, 6, 2, 3, 4, 9, 8, 10, 8, 4, 1, 15, 9, 4, 14, 7, 6, 7, 9, 9, 6, 13, 7, 7, 6, 14, 10, 9, 7, 3, 4, 15, 7, 12, 14, 11, 7, 9, 12, 13, 5, 2, 3, 10, 9, 5, 2]\n",
      "[10000, 10000, 10000, 10000, 10000, 10000, 10000, 10000, 10000, 10000, 10000, 10000, 10000, 10000, 10000, 10000, 10000, 10000, 10000, 10000, 10000, 10000, 10000, 10000, 10000, 10000, 10000, 10000, 10000, 10000, 10000, 10000, 10000, 10000, 10000, 10000, 10000, 10000, 10000, 10000, 10000, 10000, 10000, 10000, 10000, 10000, 10000, 10000, 10000, 10000, 10000, 10000, 10000, 10000, 10000, 10000, 10000, 10000, 10000, 10000, 10000, 10000, 10000, 10000, 10000, 10000, 10000, 10000, 10000, 10000, 10000, 10000, 10000, 10000, 10000, 10000, 10000, 10000, 10000, 10000, 10000, 10000, 10000, 10000, 10000, 10000, 10000, 10000, 10000, 10000, 10000, 10000, 10000, 10000, 10000, 10000, 10000, 10000, 10000, 10000]\n"
     ]
    }
   ],
   "source": [
    "print(p_id)\n",
    "print(p_name)\n",
    "print(p_q)\n",
    "print(p_am)"
   ]
  },
  {
   "cell_type": "code",
   "execution_count": 23,
   "id": "c4818e02",
   "metadata": {},
   "outputs": [],
   "source": [
    "connection = mysql.connector.connect(host=\"localhost\",user=\"root\",password=\"Arsh@2312\",database=\"sample\")"
   ]
  },
  {
   "cell_type": "code",
   "execution_count": 24,
   "id": "74333426",
   "metadata": {},
   "outputs": [],
   "source": [
    "cursor = connection.cursor()"
   ]
  },
  {
   "cell_type": "code",
   "execution_count": 25,
   "id": "38eee745",
   "metadata": {},
   "outputs": [],
   "source": [
    "for i in range(1,101):\n",
    "    cursor.execute(\"INSERT INTO product(product_id,product_name,product_quantity,price) VALUES(%s,%s,%s,%s)\",\n",
    "                  (i,product_name[random.randint(0,9)],random.randint(1,15),10000))"
   ]
  },
  {
   "cell_type": "code",
   "execution_count": 26,
   "id": "2d601666",
   "metadata": {},
   "outputs": [],
   "source": [
    "connection.commit()"
   ]
  },
  {
   "cell_type": "code",
   "execution_count": 27,
   "id": "03e16b1e",
   "metadata": {},
   "outputs": [],
   "source": [
    "connection.close()"
   ]
  },
  {
   "cell_type": "code",
   "execution_count": null,
   "id": "b1b2420d",
   "metadata": {},
   "outputs": [],
   "source": []
  }
 ],
 "metadata": {
  "kernelspec": {
   "display_name": "Python 3 (ipykernel)",
   "language": "python",
   "name": "python3"
  },
  "language_info": {
   "codemirror_mode": {
    "name": "ipython",
    "version": 3
   },
   "file_extension": ".py",
   "mimetype": "text/x-python",
   "name": "python",
   "nbconvert_exporter": "python",
   "pygments_lexer": "ipython3",
   "version": "3.9.7"
  }
 },
 "nbformat": 4,
 "nbformat_minor": 5
}
