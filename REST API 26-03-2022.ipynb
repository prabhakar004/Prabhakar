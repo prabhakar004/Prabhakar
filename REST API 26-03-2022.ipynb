{
 "cells": [
  {
   "cell_type": "code",
   "execution_count": 1,
   "id": "9274caf1",
   "metadata": {},
   "outputs": [],
   "source": [
    "import requests"
   ]
  },
  {
   "cell_type": "code",
   "execution_count": 2,
   "id": "0c124a2e",
   "metadata": {},
   "outputs": [],
   "source": [
    "# get"
   ]
  },
  {
   "cell_type": "markdown",
   "id": "7ba769d0",
   "metadata": {},
   "source": [
    "# response = requests.get(url)"
   ]
  },
  {
   "cell_type": "code",
   "execution_count": 3,
   "id": "3279eaf8",
   "metadata": {},
   "outputs": [],
   "source": [
    "# put"
   ]
  },
  {
   "cell_type": "markdown",
   "id": "66d3355b",
   "metadata": {},
   "source": [
    "## json - {\"userid\":1,\"title\":\"study\"}"
   ]
  },
  {
   "cell_type": "markdown",
   "id": "2d2c49a1",
   "metadata": {},
   "source": [
    "# json1 = {\"useid\":2,\"title\":\"playing cricket\"}"
   ]
  },
  {
   "cell_type": "markdown",
   "id": "6abca477",
   "metadata": {},
   "source": [
    "# response = requests.put(url,json1)"
   ]
  },
  {
   "cell_type": "code",
   "execution_count": 6,
   "id": "bf7a847a",
   "metadata": {},
   "outputs": [
    {
     "data": {
      "text/plain": [
       "' userid 2\\ntitle playing cricket '"
      ]
     },
     "execution_count": 6,
     "metadata": {},
     "output_type": "execute_result"
    }
   ],
   "source": [
    "\"\"\" userid 2\n",
    "title playing cricket \"\"\""
   ]
  },
  {
   "cell_type": "code",
   "execution_count": 7,
   "id": "4c9b4f4c",
   "metadata": {},
   "outputs": [],
   "source": [
    "# post"
   ]
  },
  {
   "cell_type": "markdown",
   "id": "fdf605f8",
   "metadata": {},
   "source": [
    "# json - {\"userid\":1,\"title\":\"study\"}"
   ]
  },
  {
   "cell_type": "markdown",
   "id": "4e291dd5",
   "metadata": {},
   "source": [
    "# json2 = {\"useid\":2,\"title\":\"playing cricket\"}"
   ]
  },
  {
   "cell_type": "markdown",
   "id": "b554a33d",
   "metadata": {},
   "source": [
    "# response = requests.post(url,json2)"
   ]
  },
  {
   "cell_type": "code",
   "execution_count": 8,
   "id": "a1f9bbd8",
   "metadata": {},
   "outputs": [
    {
     "data": {
      "text/plain": [
       "' userid:1\\n    title: study,\\n    userid:2\\n    title: playing cricket '"
      ]
     },
     "execution_count": 8,
     "metadata": {},
     "output_type": "execute_result"
    }
   ],
   "source": [
    "\"\"\" userid:1\n",
    "    title: study,\n",
    "    userid:2\n",
    "    title: playing cricket \"\"\""
   ]
  },
  {
   "cell_type": "code",
   "execution_count": 9,
   "id": "912747eb",
   "metadata": {},
   "outputs": [],
   "source": [
    "# delete"
   ]
  },
  {
   "cell_type": "markdown",
   "id": "43b89011",
   "metadata": {},
   "source": [
    "# response = requests.delete(url)"
   ]
  },
  {
   "cell_type": "code",
   "execution_count": null,
   "id": "1e848ab1",
   "metadata": {},
   "outputs": [],
   "source": []
  }
 ],
 "metadata": {
  "kernelspec": {
   "display_name": "Python 3 (ipykernel)",
   "language": "python",
   "name": "python3"
  },
  "language_info": {
   "codemirror_mode": {
    "name": "ipython",
    "version": 3
   },
   "file_extension": ".py",
   "mimetype": "text/x-python",
   "name": "python",
   "nbconvert_exporter": "python",
   "pygments_lexer": "ipython3",
   "version": "3.9.7"
  }
 },
 "nbformat": 4,
 "nbformat_minor": 5
}
